{
  "nbformat": 4,
  "nbformat_minor": 0,
  "metadata": {
    "colab": {
      "name": "pytorch_flask_tutorial.ipynb",
      "provenance": [],
      "collapsed_sections": [],
      "toc_visible": true,
      "include_colab_link": true
    },
    "kernelspec": {
      "display_name": "Python 3",
      "language": "python",
      "name": "python3"
    },
    "language_info": {
      "codemirror_mode": {
        "name": "ipython",
        "version": 3
      },
      "file_extension": ".py",
      "mimetype": "text/x-python",
      "name": "python",
      "nbconvert_exporter": "python",
      "pygments_lexer": "ipython3",
      "version": "3.6.10"
    },
    "widgets": {
      "application/vnd.jupyter.widget-state+json": {
        "06492063720e47a5b8253e96c2db3860": {
          "model_module": "@jupyter-widgets/controls",
          "model_name": "HBoxModel",
          "state": {
            "_view_name": "HBoxView",
            "_dom_classes": [],
            "_model_name": "HBoxModel",
            "_view_module": "@jupyter-widgets/controls",
            "_model_module_version": "1.5.0",
            "_view_count": null,
            "_view_module_version": "1.5.0",
            "box_style": "",
            "layout": "IPY_MODEL_ab0ef33b046c4d50a933b918b10ab896",
            "_model_module": "@jupyter-widgets/controls",
            "children": [
              "IPY_MODEL_c261b3f0590e4ef3861e9263e298a31f",
              "IPY_MODEL_7c1df096eb9e453bab515b4e779b7d27"
            ]
          }
        },
        "ab0ef33b046c4d50a933b918b10ab896": {
          "model_module": "@jupyter-widgets/base",
          "model_name": "LayoutModel",
          "state": {
            "_view_name": "LayoutView",
            "grid_template_rows": null,
            "right": null,
            "justify_content": null,
            "_view_module": "@jupyter-widgets/base",
            "overflow": null,
            "_model_module_version": "1.2.0",
            "_view_count": null,
            "flex_flow": null,
            "width": null,
            "min_width": null,
            "border": null,
            "align_items": null,
            "bottom": null,
            "_model_module": "@jupyter-widgets/base",
            "top": null,
            "grid_column": null,
            "overflow_y": null,
            "overflow_x": null,
            "grid_auto_flow": null,
            "grid_area": null,
            "grid_template_columns": null,
            "flex": null,
            "_model_name": "LayoutModel",
            "justify_items": null,
            "grid_row": null,
            "max_height": null,
            "align_content": null,
            "visibility": null,
            "align_self": null,
            "height": null,
            "min_height": null,
            "padding": null,
            "grid_auto_rows": null,
            "grid_gap": null,
            "max_width": null,
            "order": null,
            "_view_module_version": "1.2.0",
            "grid_template_areas": null,
            "object_position": null,
            "object_fit": null,
            "grid_auto_columns": null,
            "margin": null,
            "display": null,
            "left": null
          }
        },
        "c261b3f0590e4ef3861e9263e298a31f": {
          "model_module": "@jupyter-widgets/controls",
          "model_name": "FloatProgressModel",
          "state": {
            "_view_name": "ProgressView",
            "style": "IPY_MODEL_5872919be6dd46d9ad6eac75d292157f",
            "_dom_classes": [],
            "description": "100%",
            "_model_name": "FloatProgressModel",
            "bar_style": "success",
            "max": 102502400,
            "_view_module": "@jupyter-widgets/controls",
            "_model_module_version": "1.5.0",
            "value": 102502400,
            "_view_count": null,
            "_view_module_version": "1.5.0",
            "orientation": "horizontal",
            "min": 0,
            "description_tooltip": null,
            "_model_module": "@jupyter-widgets/controls",
            "layout": "IPY_MODEL_7f5eb893bea74bf09222435d5689083c"
          }
        },
        "7c1df096eb9e453bab515b4e779b7d27": {
          "model_module": "@jupyter-widgets/controls",
          "model_name": "HTMLModel",
          "state": {
            "_view_name": "HTMLView",
            "style": "IPY_MODEL_93f6c32a52d24d7b86fe460829f3438f",
            "_dom_classes": [],
            "description": "",
            "_model_name": "HTMLModel",
            "placeholder": "​",
            "_view_module": "@jupyter-widgets/controls",
            "_model_module_version": "1.5.0",
            "value": " 97.8M/97.8M [00:16&lt;00:00, 6.16MB/s]",
            "_view_count": null,
            "_view_module_version": "1.5.0",
            "description_tooltip": null,
            "_model_module": "@jupyter-widgets/controls",
            "layout": "IPY_MODEL_4b4f8e6c4885409cbcdb6e135ed6596b"
          }
        },
        "5872919be6dd46d9ad6eac75d292157f": {
          "model_module": "@jupyter-widgets/controls",
          "model_name": "ProgressStyleModel",
          "state": {
            "_view_name": "StyleView",
            "_model_name": "ProgressStyleModel",
            "description_width": "initial",
            "_view_module": "@jupyter-widgets/base",
            "_model_module_version": "1.5.0",
            "_view_count": null,
            "_view_module_version": "1.2.0",
            "bar_color": null,
            "_model_module": "@jupyter-widgets/controls"
          }
        },
        "7f5eb893bea74bf09222435d5689083c": {
          "model_module": "@jupyter-widgets/base",
          "model_name": "LayoutModel",
          "state": {
            "_view_name": "LayoutView",
            "grid_template_rows": null,
            "right": null,
            "justify_content": null,
            "_view_module": "@jupyter-widgets/base",
            "overflow": null,
            "_model_module_version": "1.2.0",
            "_view_count": null,
            "flex_flow": null,
            "width": null,
            "min_width": null,
            "border": null,
            "align_items": null,
            "bottom": null,
            "_model_module": "@jupyter-widgets/base",
            "top": null,
            "grid_column": null,
            "overflow_y": null,
            "overflow_x": null,
            "grid_auto_flow": null,
            "grid_area": null,
            "grid_template_columns": null,
            "flex": null,
            "_model_name": "LayoutModel",
            "justify_items": null,
            "grid_row": null,
            "max_height": null,
            "align_content": null,
            "visibility": null,
            "align_self": null,
            "height": null,
            "min_height": null,
            "padding": null,
            "grid_auto_rows": null,
            "grid_gap": null,
            "max_width": null,
            "order": null,
            "_view_module_version": "1.2.0",
            "grid_template_areas": null,
            "object_position": null,
            "object_fit": null,
            "grid_auto_columns": null,
            "margin": null,
            "display": null,
            "left": null
          }
        },
        "93f6c32a52d24d7b86fe460829f3438f": {
          "model_module": "@jupyter-widgets/controls",
          "model_name": "DescriptionStyleModel",
          "state": {
            "_view_name": "StyleView",
            "_model_name": "DescriptionStyleModel",
            "description_width": "",
            "_view_module": "@jupyter-widgets/base",
            "_model_module_version": "1.5.0",
            "_view_count": null,
            "_view_module_version": "1.2.0",
            "_model_module": "@jupyter-widgets/controls"
          }
        },
        "4b4f8e6c4885409cbcdb6e135ed6596b": {
          "model_module": "@jupyter-widgets/base",
          "model_name": "LayoutModel",
          "state": {
            "_view_name": "LayoutView",
            "grid_template_rows": null,
            "right": null,
            "justify_content": null,
            "_view_module": "@jupyter-widgets/base",
            "overflow": null,
            "_model_module_version": "1.2.0",
            "_view_count": null,
            "flex_flow": null,
            "width": null,
            "min_width": null,
            "border": null,
            "align_items": null,
            "bottom": null,
            "_model_module": "@jupyter-widgets/base",
            "top": null,
            "grid_column": null,
            "overflow_y": null,
            "overflow_x": null,
            "grid_auto_flow": null,
            "grid_area": null,
            "grid_template_columns": null,
            "flex": null,
            "_model_name": "LayoutModel",
            "justify_items": null,
            "grid_row": null,
            "max_height": null,
            "align_content": null,
            "visibility": null,
            "align_self": null,
            "height": null,
            "min_height": null,
            "padding": null,
            "grid_auto_rows": null,
            "grid_gap": null,
            "max_width": null,
            "order": null,
            "_view_module_version": "1.2.0",
            "grid_template_areas": null,
            "object_position": null,
            "object_fit": null,
            "grid_auto_columns": null,
            "margin": null,
            "display": null,
            "left": null
          }
        }
      }
    }
  },
  "cells": [
    {
      "cell_type": "markdown",
      "metadata": {
        "id": "view-in-github",
        "colab_type": "text"
      },
      "source": [
        "<a href=\"https://colab.research.google.com/github/kampta/AI4ALL/blob/master/pytorch_classifier_in_action/pytorch_flask_tutorial.ipynb\" target=\"_parent\"><img src=\"https://colab.research.google.com/assets/colab-badge.svg\" alt=\"Open In Colab\"/></a>"
      ]
    },
    {
      "cell_type": "markdown",
      "metadata": {
        "colab_type": "text",
        "id": "T7yVBqFbWeuC"
      },
      "source": [
        "# Building a demo for the PyTorch model you just trained\n",
        "\n",
        "\n",
        "In this notebook, you'll build a complete webapp with the pytorch model you trained running in the backend (which is either a google GPU server or your laptop based on what you chose for the runtime). Frontend will be simple HTML mixed with some javascript (to talk to the python backend) and CSS (to make things look a bit pretty). You'll able to do all of this in few simple steps! in few minutes!\n",
        "\n",
        "At the end of the tutorial, you'll be running an app that looks like this\n",
        "\n",
        "![final_demo](https://github.com/kampta/AI4ALL/blob/master/pytorch_classifier_in_action/imgs/action.png?raw=true)\n",
        "\n",
        "\n",
        "\n",
        "* Start with making a copy of this notebook first!\n",
        "* Open the notebook in Colab and choose **Connect to a hosted runtime** on top left (if you want to run things on Google's servers). Something like this\n",
        "\n",
        "![runtime](https://github.com/kampta/AI4ALL/blob/master/pytorch_classifier_in_action/imgs/runtime.png?raw=true)\n",
        "\n"
      ]
    },
    {
      "cell_type": "markdown",
      "metadata": {
        "colab_type": "text",
        "id": "nb1lo7kKchMB"
      },
      "source": [
        "## Boileplate Code\n",
        "\n",
        "We will start with installing some dependencies and importing some boilerplate code"
      ]
    },
    {
      "cell_type": "code",
      "metadata": {
        "colab_type": "code",
        "id": "N1bREem0kL6s",
        "colab": {
          "base_uri": "https://localhost:8080/",
          "height": 411
        },
        "outputId": "49a5f6b0-a5b7-4678-f24d-aaeb68ef37f8"
      },
      "source": [
        "!pip install flask-ngrok\n",
        "!git clone https://github.com/kampta/AI4ALL.git\n",
        "%cd AI4ALL/pytorch_classifier_in_action"
      ],
      "execution_count": 1,
      "outputs": [
        {
          "output_type": "stream",
          "text": [
            "Collecting flask-ngrok\n",
            "  Downloading https://files.pythonhosted.org/packages/af/6c/f54cb686ad1129e27d125d182f90f52b32f284e6c8df58c1bae54fa1adbc/flask_ngrok-0.0.25-py3-none-any.whl\n",
            "Requirement already satisfied: Flask>=0.8 in /usr/local/lib/python3.6/dist-packages (from flask-ngrok) (1.1.2)\n",
            "Requirement already satisfied: requests in /usr/local/lib/python3.6/dist-packages (from flask-ngrok) (2.23.0)\n",
            "Requirement already satisfied: itsdangerous>=0.24 in /usr/local/lib/python3.6/dist-packages (from Flask>=0.8->flask-ngrok) (1.1.0)\n",
            "Requirement already satisfied: click>=5.1 in /usr/local/lib/python3.6/dist-packages (from Flask>=0.8->flask-ngrok) (7.1.2)\n",
            "Requirement already satisfied: Jinja2>=2.10.1 in /usr/local/lib/python3.6/dist-packages (from Flask>=0.8->flask-ngrok) (2.11.2)\n",
            "Requirement already satisfied: Werkzeug>=0.15 in /usr/local/lib/python3.6/dist-packages (from Flask>=0.8->flask-ngrok) (1.0.1)\n",
            "Requirement already satisfied: certifi>=2017.4.17 in /usr/local/lib/python3.6/dist-packages (from requests->flask-ngrok) (2020.6.20)\n",
            "Requirement already satisfied: urllib3!=1.25.0,!=1.25.1,<1.26,>=1.21.1 in /usr/local/lib/python3.6/dist-packages (from requests->flask-ngrok) (1.24.3)\n",
            "Requirement already satisfied: idna<3,>=2.5 in /usr/local/lib/python3.6/dist-packages (from requests->flask-ngrok) (2.9)\n",
            "Requirement already satisfied: chardet<4,>=3.0.2 in /usr/local/lib/python3.6/dist-packages (from requests->flask-ngrok) (3.0.4)\n",
            "Requirement already satisfied: MarkupSafe>=0.23 in /usr/local/lib/python3.6/dist-packages (from Jinja2>=2.10.1->Flask>=0.8->flask-ngrok) (1.1.1)\n",
            "Installing collected packages: flask-ngrok\n",
            "Successfully installed flask-ngrok-0.0.25\n",
            "Cloning into 'AI4ALL'...\n",
            "remote: Enumerating objects: 44, done.\u001b[K\n",
            "remote: Counting objects: 100% (44/44), done.\u001b[K\n",
            "remote: Compressing objects: 100% (32/32), done.\u001b[K\n",
            "remote: Total 44 (delta 12), reused 40 (delta 8), pack-reused 0\u001b[K\n",
            "Unpacking objects: 100% (44/44), done.\n",
            "/content/AI4ALL/pytorch_classifier_in_action\n"
          ],
          "name": "stdout"
        }
      ]
    },
    {
      "cell_type": "code",
      "metadata": {
        "colab_type": "code",
        "id": "7ikHkVqnUmDc",
        "colab": {
          "base_uri": "https://localhost:8080/",
          "height": 103,
          "referenced_widgets": [
            "06492063720e47a5b8253e96c2db3860",
            "ab0ef33b046c4d50a933b918b10ab896",
            "c261b3f0590e4ef3861e9263e298a31f",
            "7c1df096eb9e453bab515b4e779b7d27",
            "5872919be6dd46d9ad6eac75d292157f",
            "7f5eb893bea74bf09222435d5689083c",
            "93f6c32a52d24d7b86fe460829f3438f",
            "4b4f8e6c4885409cbcdb6e135ed6596b"
          ]
        },
        "outputId": "1e28a6aa-7e2a-4ded-fe5f-3f7934d23ae5"
      },
      "source": [
        "import traceback\n",
        "from flask import Flask, jsonify, request, render_template\n",
        "from flask_ngrok import run_with_ngrok\n",
        "\n",
        "from utils import read_file, transform_image, get_topk, render_prediction"
      ],
      "execution_count": 2,
      "outputs": [
        {
          "output_type": "stream",
          "text": [
            "Downloading: \"https://download.pytorch.org/models/resnet50-19c8e357.pth\" to /root/.cache/torch/checkpoints/resnet50-19c8e357.pth\n"
          ],
          "name": "stderr"
        },
        {
          "output_type": "display_data",
          "data": {
            "application/vnd.jupyter.widget-view+json": {
              "model_id": "06492063720e47a5b8253e96c2db3860",
              "version_minor": 0,
              "version_major": 2
            },
            "text/plain": [
              "HBox(children=(FloatProgress(value=0.0, max=102502400.0), HTML(value='')))"
            ]
          },
          "metadata": {
            "tags": []
          }
        },
        {
          "output_type": "stream",
          "text": [
            "\n"
          ],
          "name": "stdout"
        }
      ]
    },
    {
      "cell_type": "markdown",
      "metadata": {
        "colab_type": "text",
        "id": "4CPCwNExeVxb"
      },
      "source": [
        "## Define the app endpoints\n",
        "\n",
        "Endpoints are part of the URL that are defined to access some specific things from the website. You don't need to worry about them too much for now "
      ]
    },
    {
      "cell_type": "code",
      "metadata": {
        "colab_type": "code",
        "id": "lnnUMXktVO69",
        "colab": {}
      },
      "source": [
        "app = Flask(__name__)\n",
        "\n",
        "\n",
        "@app.route('/', methods=['GET'])\n",
        "def root():\n",
        "    return render_template('index.html')\n",
        "\n",
        "\n",
        "@app.route('/predict', methods=['GET', 'POST'])\n",
        "def predict():\n",
        "    if request.method == 'GET':\n",
        "        try:\n",
        "            url = request.args.get('q')\n",
        "            app.logger.debug('url provided - %s', url)\n",
        "            input_tensor = transform_image(read_file(url=url))\n",
        "            values, indices = get_topk(input_tensor)\n",
        "            results = render_prediction(values, indices)\n",
        "            return jsonify(results=results)\n",
        "\n",
        "        except:\n",
        "            app.logger.debug(\"Error: %s\", traceback.print_exc())\n",
        "            return jsonify(\"invalid image url\")\n",
        "\n",
        "    elif request.method == 'POST':\n",
        "        try:\n",
        "            file = request.files['file']\n",
        "            app.logger.debug('file uploaded - %s', file)\n",
        "            url = request.form.get(\"url\", None)\n",
        "            app.logger.debug('url provided - %s', url)\n",
        "\n",
        "            input_tensor = transform_image(read_file(upload=file, url=url))\n",
        "            values, indices = get_topk(input_tensor)\n",
        "            results = render_prediction(values, indices)\n",
        "            return jsonify(results=results)\n",
        "\n",
        "        except:\n",
        "            app.logger.debug(\"Error: %s\", traceback.print_exc())\n",
        "            return jsonify(\"invalid image\")\n",
        "\n",
        "    else:\n",
        "        app.logger.debug(\"Error: %s\", traceback.print_exc())\n",
        "        return jsonify('invalid request')\n"
      ],
      "execution_count": 3,
      "outputs": []
    },
    {
      "cell_type": "markdown",
      "metadata": {
        "colab_type": "text",
        "id": "UFzTMNbIevXS"
      },
      "source": [
        "## Running the app\n",
        "\n",
        "That's it! Just run the app with following code. Wait for an ngrok URL to show up. It would look something like this - \"http://a1b2c3d4e5.ngrok.io\". Click on the URL and you should be able to access your web app.\n",
        "\n"
      ]
    },
    {
      "cell_type": "code",
      "metadata": {
        "colab_type": "code",
        "id": "pohACG_7VXnh",
        "colab": {
          "base_uri": "https://localhost:8080/",
          "height": 255
        },
        "outputId": "74a3f484-2d15-4474-d10d-01e9ad436383"
      },
      "source": [
        "run_with_ngrok(app)   #starts ngrok when the app is run\n",
        "app.run()"
      ],
      "execution_count": 4,
      "outputs": [
        {
          "output_type": "stream",
          "text": [
            " * Serving Flask app \"__main__\" (lazy loading)\n",
            " * Environment: production\n",
            "\u001b[31m   WARNING: This is a development server. Do not use it in a production deployment.\u001b[0m\n",
            "\u001b[2m   Use a production WSGI server instead.\u001b[0m\n",
            " * Debug mode: off\n"
          ],
          "name": "stdout"
        },
        {
          "output_type": "stream",
          "text": [
            " * Running on http://127.0.0.1:5000/ (Press CTRL+C to quit)\n"
          ],
          "name": "stderr"
        },
        {
          "output_type": "stream",
          "text": [
            " * Running on http://849657887491.ngrok.io\n",
            " * Traffic stats available on http://127.0.0.1:4040\n"
          ],
          "name": "stdout"
        },
        {
          "output_type": "stream",
          "text": [
            "127.0.0.1 - - [12/Jul/2020 01:26:27] \"\u001b[37mGET / HTTP/1.1\u001b[0m\" 200 -\n",
            "127.0.0.1 - - [12/Jul/2020 01:26:27] \"\u001b[37mGET /static/main.css HTTP/1.1\u001b[0m\" 200 -\n",
            "127.0.0.1 - - [12/Jul/2020 01:26:27] \"\u001b[37mGET /static/main.js HTTP/1.1\u001b[0m\" 200 -\n",
            "127.0.0.1 - - [12/Jul/2020 01:26:28] \"\u001b[33mGET /favicon.ico HTTP/1.1\u001b[0m\" 404 -\n",
            "127.0.0.1 - - [12/Jul/2020 01:26:31] \"\u001b[37mGET / HTTP/1.1\u001b[0m\" 200 -\n",
            "127.0.0.1 - - [12/Jul/2020 01:26:37] \"\u001b[37mPOST /predict HTTP/1.1\u001b[0m\" 200 -\n"
          ],
          "name": "stderr"
        }
      ]
    },
    {
      "cell_type": "markdown",
      "metadata": {
        "colab_type": "text",
        "id": "mRJ4j3-sfXC9"
      },
      "source": [
        "Great job! You've built your first web service that uses a \n",
        "pytorch model at the backend to classify images in the wild\n",
        "\n",
        "\n",
        "---\n",
        "\n",
        "\n",
        "\n",
        "\n",
        "*Any feedback for this tutorial?* Please shoot me an email at kampta@umd.edu"
      ]
    }
  ]
}