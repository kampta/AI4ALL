{
  "nbformat": 4,
  "nbformat_minor": 0,
  "metadata": {
    "colab": {
      "name": "pytorch_flask_tutorial.ipynb",
      "provenance": [],
      "collapsed_sections": [],
      "toc_visible": true
    },
    "kernelspec": {
      "name": "python3",
      "display_name": "Python 3"
    }
  },
  "cells": [
    {
      "cell_type": "markdown",
      "metadata": {
        "id": "T7yVBqFbWeuC",
        "colab_type": "text"
      },
      "source": [
        "# Building a demo for the PyTorch model you just trained\n",
        "\n",
        "In this notebook, you'll build a complete webapp with the pytorch model you trained running in the backend (which is either a google GPU server or your laptop based on what you chose for the runtime). Frontend will be simple HTML mixed with some javascript (to talk to the python backend) and CSS (to make things look a bit pretty). You'll able to do all of this in few simple steps! in few minutes!\n",
        "\n",
        "At the end of the tutorial, you'll be running an app that looks like this\n",
        "\n",
        "![final_demo](https://github.com/kampta/AI4ALL/blob/master/photag/imgs/action.png?raw=true)\n",
        "\n",
        "\n",
        "\n",
        "* Start with making a copy of this notebook first!\n",
        "* Open the notebook in Colab and choose **Connect to a hosted runtime** on top left (if you want to run things on Google's servers). Something like this\n",
        "\n",
        "![runtime](https://github.com/kampta/AI4ALL/blob/master/photag/imgs/runtime.png?raw=true)\n",
        "\n"
      ]
    },
    {
      "cell_type": "markdown",
      "metadata": {
        "id": "nb1lo7kKchMB",
        "colab_type": "text"
      },
      "source": [
        "## Boileplate Code\n",
        "\n",
        "We will start with installing some dependencies and importing some boilerplate code"
      ]
    },
    {
      "cell_type": "code",
      "metadata": {
        "id": "N1bREem0kL6s",
        "colab_type": "code",
        "colab": {
          "base_uri": "https://localhost:8080/",
          "height": 411
        },
        "outputId": "2a409f1e-5410-40d5-e9d9-243bf78d10f8"
      },
      "source": [
        "!pip install flask-ngrok\n",
        "!git clone https://github.com/kampta/AI4ALL.git\n",
        "%cd AI4ALL/photag"
      ],
      "execution_count": null,
      "outputs": [
        {
          "output_type": "stream",
          "text": [
            "Collecting flask-ngrok\n",
            "  Downloading https://files.pythonhosted.org/packages/af/6c/f54cb686ad1129e27d125d182f90f52b32f284e6c8df58c1bae54fa1adbc/flask_ngrok-0.0.25-py3-none-any.whl\n",
            "Requirement already satisfied: Flask>=0.8 in /usr/local/lib/python3.6/dist-packages (from flask-ngrok) (1.1.2)\n",
            "Requirement already satisfied: requests in /usr/local/lib/python3.6/dist-packages (from flask-ngrok) (2.23.0)\n",
            "Requirement already satisfied: click>=5.1 in /usr/local/lib/python3.6/dist-packages (from Flask>=0.8->flask-ngrok) (7.1.2)\n",
            "Requirement already satisfied: Jinja2>=2.10.1 in /usr/local/lib/python3.6/dist-packages (from Flask>=0.8->flask-ngrok) (2.11.2)\n",
            "Requirement already satisfied: itsdangerous>=0.24 in /usr/local/lib/python3.6/dist-packages (from Flask>=0.8->flask-ngrok) (1.1.0)\n",
            "Requirement already satisfied: Werkzeug>=0.15 in /usr/local/lib/python3.6/dist-packages (from Flask>=0.8->flask-ngrok) (1.0.1)\n",
            "Requirement already satisfied: chardet<4,>=3.0.2 in /usr/local/lib/python3.6/dist-packages (from requests->flask-ngrok) (3.0.4)\n",
            "Requirement already satisfied: idna<3,>=2.5 in /usr/local/lib/python3.6/dist-packages (from requests->flask-ngrok) (2.9)\n",
            "Requirement already satisfied: urllib3!=1.25.0,!=1.25.1,<1.26,>=1.21.1 in /usr/local/lib/python3.6/dist-packages (from requests->flask-ngrok) (1.24.3)\n",
            "Requirement already satisfied: certifi>=2017.4.17 in /usr/local/lib/python3.6/dist-packages (from requests->flask-ngrok) (2020.6.20)\n",
            "Requirement already satisfied: MarkupSafe>=0.23 in /usr/local/lib/python3.6/dist-packages (from Jinja2>=2.10.1->Flask>=0.8->flask-ngrok) (1.1.1)\n",
            "Installing collected packages: flask-ngrok\n",
            "Successfully installed flask-ngrok-0.0.25\n",
            "Cloning into 'AI4ALL'...\n",
            "remote: Enumerating objects: 24, done.\u001b[K\n",
            "remote: Counting objects: 100% (24/24), done.\u001b[K\n",
            "remote: Compressing objects: 100% (19/19), done.\u001b[K\n",
            "remote: Total 24 (delta 3), reused 23 (delta 2), pack-reused 0\u001b[K\n",
            "Unpacking objects: 100% (24/24), done.\n",
            "/content/AI4ALL/photag\n"
          ],
          "name": "stdout"
        }
      ]
    },
    {
      "cell_type": "code",
      "metadata": {
        "id": "7ikHkVqnUmDc",
        "colab_type": "code",
        "colab": {}
      },
      "source": [
        "import traceback\n",
        "from flask import Flask, jsonify, request, render_template\n",
        "from flask_ngrok import run_with_ngrok\n",
        "\n",
        "from utils import read_file, transform_image, get_topk, render_prediction"
      ],
      "execution_count": null,
      "outputs": []
    },
    {
      "cell_type": "markdown",
      "metadata": {
        "id": "4CPCwNExeVxb",
        "colab_type": "text"
      },
      "source": [
        "## Define the app endpoints\n",
        "\n",
        "Endpoints are part of the URL that are defined to access some specific things from the website. You don't need to worry about them too much for now "
      ]
    },
    {
      "cell_type": "code",
      "metadata": {
        "id": "lnnUMXktVO69",
        "colab_type": "code",
        "colab": {}
      },
      "source": [
        "app = Flask(__name__)\n",
        "\n",
        "\n",
        "@app.route('/', methods=['GET'])\n",
        "def demo_photag():\n",
        "    return render_template('photag.html')\n",
        "\n",
        "\n",
        "@app.route('/predict', methods=['GET', 'POST'])\n",
        "def predict():\n",
        "    if request.method == 'GET':\n",
        "        try:\n",
        "            url = request.args.get('q')\n",
        "            app.logger.debug('url provided - %s', url)\n",
        "            input_tensor = transform_image(read_file(url=url))\n",
        "            values, indices = get_topk(input_tensor)\n",
        "            results = render_prediction(values, indices)\n",
        "            return jsonify(results=results)\n",
        "\n",
        "        except:\n",
        "            app.logger.debug(\"Error: %s\", traceback.print_exc())\n",
        "            return jsonify(\"invalid image url\")\n",
        "\n",
        "    elif request.method == 'POST':\n",
        "        try:\n",
        "            file = request.files['file']\n",
        "            app.logger.debug('file uploaded - %s', file)\n",
        "            url = request.form.get(\"url\", None)\n",
        "            app.logger.debug('url provided - %s', url)\n",
        "\n",
        "            input_tensor = transform_image(read_file(upload=file, url=url))\n",
        "            values, indices = get_topk(input_tensor)\n",
        "            results = render_prediction(values, indices)\n",
        "            return jsonify(results=results)\n",
        "\n",
        "        except:\n",
        "            app.logger.debug(\"Error: %s\", traceback.print_exc())\n",
        "            return jsonify(\"invalid image\")\n",
        "\n",
        "    else:\n",
        "        app.logger.debug(\"Error: %s\", traceback.print_exc())\n",
        "        return jsonify('invalid request')\n"
      ],
      "execution_count": null,
      "outputs": []
    },
    {
      "cell_type": "markdown",
      "metadata": {
        "id": "UFzTMNbIevXS",
        "colab_type": "text"
      },
      "source": [
        "## Running the app\n",
        "\n",
        "That's it! Just run the app with following code. Wait for an ngrok URL to show up. It would look something like this - \"http://a1b2c3d4e5.ngrok.io\". Click on the URL and you should be able to access your web app.\n",
        "\n"
      ]
    },
    {
      "cell_type": "code",
      "metadata": {
        "id": "pohACG_7VXnh",
        "colab_type": "code",
        "colab": {
          "base_uri": "https://localhost:8080/",
          "height": 238
        },
        "outputId": "b8b8533b-5f4d-41c8-a971-2e014e3f25a2"
      },
      "source": [
        "run_with_ngrok(app)   #starts ngrok when the app is run\n",
        "app.run()"
      ],
      "execution_count": null,
      "outputs": [
        {
          "output_type": "stream",
          "text": [
            " * Serving Flask app \"__main__\" (lazy loading)\n",
            " * Environment: production\n",
            "\u001b[31m   WARNING: This is a development server. Do not use it in a production deployment.\u001b[0m\n",
            "\u001b[2m   Use a production WSGI server instead.\u001b[0m\n",
            " * Debug mode: off\n"
          ],
          "name": "stdout"
        },
        {
          "output_type": "stream",
          "text": [
            " * Running on http://127.0.0.1:5000/ (Press CTRL+C to quit)\n"
          ],
          "name": "stderr"
        },
        {
          "output_type": "stream",
          "text": [
            " * Running on http://0a6feb07a050.ngrok.io\n",
            " * Traffic stats available on http://127.0.0.1:4040\n"
          ],
          "name": "stdout"
        },
        {
          "output_type": "stream",
          "text": [
            "127.0.0.1 - - [12/Jul/2020 00:46:55] \"\u001b[37mGET / HTTP/1.1\u001b[0m\" 200 -\n",
            "127.0.0.1 - - [12/Jul/2020 00:46:56] \"\u001b[37mGET /static/main.css HTTP/1.1\u001b[0m\" 200 -\n",
            "127.0.0.1 - - [12/Jul/2020 00:46:56] \"\u001b[37mGET /static/main.js HTTP/1.1\u001b[0m\" 200 -\n",
            "127.0.0.1 - - [12/Jul/2020 00:46:57] \"\u001b[33mGET /favicon.ico HTTP/1.1\u001b[0m\" 404 -\n",
            "127.0.0.1 - - [12/Jul/2020 00:47:04] \"\u001b[37mPOST /predict HTTP/1.1\u001b[0m\" 200 -\n"
          ],
          "name": "stderr"
        }
      ]
    },
    {
      "cell_type": "markdown",
      "metadata": {
        "id": "mRJ4j3-sfXC9",
        "colab_type": "text"
      },
      "source": [
        "Great job! You've built your first web service that uses a \n",
        "pytorch model at the backend to classify images in the wild\n",
        "\n",
        "\n",
        "---\n",
        "\n",
        "\n",
        "\n",
        "\n",
        "*Any feedback for this tutorial?* Please shoot me an email at kampta@umd.edu"
      ]
    }
  ]
}